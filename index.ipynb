{
  "cells": [
    {
      "cell_type": "markdown",
      "metadata": {},
      "source": [
        "### **Business Understanding**"
      ]
    },
    {
      "cell_type": "markdown",
      "metadata": {},
      "source": [
        "#### *Project Overview:*\n",
        "<p>The Movie Recommendation System is designed to enhance user engagement and satisfaction on our platform by providing personalized movie recommendations to users. The primary goal of this project is to leverage machine learning techniques to deliver relevant and engaging movie suggestions, thereby increasing user retention and the consumption of content.</p>\n",
        "\n",
        "#### *Objectives:*\n",
        "\n",
        "1. Enhance User Experience: The central objective of this project is to improve the user experience by offering movie recommendations tailored to individual preferences. Personalization can lead to increased user satisfaction and longer engagement with our platform.\n",
        "\n",
        "2. Increase Content Consumption: By presenting users with movies they are likely to enjoy. I aim to boost the consumption of content on our platform. Satisfied users are more likely to explore and watch a wider range of movies.\n",
        "\n",
        "#### *Key Stakeholders:*\n",
        "\n",
        "1. Users: The primary stakeholders are the platform users who expect relevant and enjoyable movie recommendations.\n",
        "2. Content Providers: Content providers benefit from increased viewership of their movies, driven by the recommendations.\n",
        "3. Platform Operators: The platform operators benefit from higher user engagement and potential revenue growth.\n",
        "\n",
        "\n",
        "#### *Challenges:*\n",
        "\n",
        "1. Cold Start Problem: Addressing the challenge of providing recommendations for new users with limited viewing history.\n",
        "2. Scalability: Ensuring that the recommendation system can handle a growing user base and a vast catalog of movies.\n",
        "3. Balancing Relevance and Diversity: Striking the right balance between recommending popular movies and introducing diversity to avoid creating content \"bubbles.\"\n",
        "4. Data Privacy: Ensuring that user data is handled with care and in compliance with privacy regulations.\n",
        "\n",
        "\n",
        "#### *Success Metrics:*\n",
        "\n",
        "1. User Engagement: We will measure the increase in user engagement metrics such as the number of movies watched, session duration, and user retention.\n",
        "2. Content Consumption: Tracking the consumption of recommended movies compared to non-recommended movies.\n",
        "3. User Satisfaction: Gathering user feedback and conducting surveys to assess user satisfaction with the recommendations.\n",
        "4. Revenue Growth: Monitoring any potential increase in revenue from users subscribing to premium services or purchasing content.\n",
        "\n",
        "#### *Project Phases:*\n",
        "\n",
        "1. Data Collection and Preparation: Collecting and preprocessing user behavior data, movie metadata, and ratings.\n",
        "2. Model Development: Building and training machine learning models to predict user preferences and generate movie recommendations.\n",
        "3. Evaluation and Fine-Tuning: Assessing model performance, optimizing recommendation quality, and fine-tuning algorithms.\n",
        "4. Deployment: Integrating the recommendation system into the platform, ensuring scalability and real-time recommendations.\n",
        "5. Monitoring and Iteration: Continuously monitoring system performance, collecting user feedback, and making improvements.\n",
        "\n",
        "#### *Ethical Considerations:*\n",
        "\n",
        "1. Protecting user privacy and ensuring data security.\n",
        "2. Avoiding biases in recommendations, such as discrimination or filter bubbles.\n",
        "3. Providing transparency in how recommendations are generated and allowing users to control their recommendations.\n",
        "\n",
        "#### *Conclusion:*\n",
        "\n",
        "<p>The Movie Recommendation System aims to create a win-win situation for both users and the platform by delivering personalized, engaging, and diverse movie recommendations. The success of this project will be measured through increased user engagement, content consumption, and user satisfaction, ultimately contributing to the growth and success of our platform.</p>"
      ]
    },
    {
      "cell_type": "markdown",
      "metadata": {},
      "source": [
        "### **Data Understanding**"
      ]
    },
    {
      "cell_type": "code",
      "execution_count": 1,
      "metadata": {
        "colab": {
          "base_uri": "https://localhost:8080/"
        },
        "id": "PjW9XUvhkZSH",
        "outputId": "5cf6e033-da92-4771-da5c-f11ffa942e28"
      },
      "outputs": [
        {
          "name": "stdout",
          "output_type": "stream",
          "text": [
            "Collecting pyspark\n",
            "  Downloading pyspark-3.4.1.tar.gz (310.8 MB)\n",
            "\u001b[2K     \u001b[90m━━━━━━━━━━━━━━━━━━━━━━━━━━━━━━━━━━━━━━━\u001b[0m \u001b[32m310.8/310.8 MB\u001b[0m \u001b[31m4.8 MB/s\u001b[0m eta \u001b[36m0:00:00\u001b[0m\n",
            "\u001b[?25h  Preparing metadata (setup.py) ... \u001b[?25l\u001b[?25hdone\n",
            "Requirement already satisfied: py4j==0.10.9.7 in /usr/local/lib/python3.10/dist-packages (from pyspark) (0.10.9.7)\n",
            "Building wheels for collected packages: pyspark\n",
            "  Building wheel for pyspark (setup.py) ... \u001b[?25l\u001b[?25hdone\n",
            "  Created wheel for pyspark: filename=pyspark-3.4.1-py2.py3-none-any.whl size=311285387 sha256=cc4b7c3e54d77f405fb9fbcb207c76c4ea5e43a30560a569955b45196692b023\n",
            "  Stored in directory: /root/.cache/pip/wheels/0d/77/a3/ff2f74cc9ab41f8f594dabf0579c2a7c6de920d584206e0834\n",
            "Successfully built pyspark\n",
            "Installing collected packages: pyspark\n",
            "Successfully installed pyspark-3.4.1\n"
          ]
        }
      ],
      "source": [
        "# !pip install pyspark"
      ]
    },
    {
      "cell_type": "code",
      "execution_count": 34,
      "metadata": {
        "id": "pquuK1nakZSJ"
      },
      "outputs": [],
      "source": [
        "# import necessary modules\n",
        "from pyspark.sql import SparkSession\n",
        "from pyspark.sql.functions import rand\n",
        "from pyspark.sql.functions import *\n",
        "from pyspark.ml.feature import StringIndexer,IndexToString\n",
        "from pyspark.ml.recommendation import ALS\n",
        "from pyspark.ml.evaluation import RegressionEvaluator\n"
      ]
    },
    {
      "cell_type": "code",
      "execution_count": 3,
      "metadata": {
        "id": "uffbMd5AkZSK"
      },
      "outputs": [],
      "source": [
        "# create sparksession\n",
        "spark = SparkSession.builder.appName('lin_reg').getOrCreate()"
      ]
    },
    {
      "cell_type": "code",
      "execution_count": 4,
      "metadata": {
        "colab": {
          "base_uri": "https://localhost:8080/"
        },
        "id": "REn0fFmdlFzv",
        "outputId": "66c47a04-c9f2-445a-cfea-302d59b407d3"
      },
      "outputs": [
        {
          "name": "stdout",
          "output_type": "stream",
          "text": [
            "Mounted at /content/drive\n"
          ]
        }
      ],
      "source": [
        "from google.colab import drive\n",
        "drive.mount('/content/drive')"
      ]
    },
    {
      "cell_type": "code",
      "execution_count": 5,
      "metadata": {
        "id": "6EkUtKRWkZSL"
      },
      "outputs": [],
      "source": [
        "# read dataset\n",
        "df_1 = spark.read.csv('/content/drive/MyDrive/Data/ratings.csv',inferSchema=True,header=True)"
      ]
    },
    {
      "cell_type": "code",
      "execution_count": 6,
      "metadata": {
        "colab": {
          "base_uri": "https://localhost:8080/"
        },
        "id": "Er-gqOcqkZSL",
        "outputId": "cba539b9-426c-48d8-cd78-d5cd47adbf0b"
      },
      "outputs": [
        {
          "name": "stdout",
          "output_type": "stream",
          "text": [
            "(25000095, 4)\n"
          ]
        }
      ],
      "source": [
        "# size of dataset\n",
        "print((df_1.count(),len(df_1.columns)))"
      ]
    },
    {
      "cell_type": "code",
      "execution_count": 7,
      "metadata": {
        "colab": {
          "base_uri": "https://localhost:8080/"
        },
        "id": "HbVHaeOHkZSL",
        "outputId": "edce267f-2aa9-4399-dcf5-d453ca773341"
      },
      "outputs": [
        {
          "name": "stdout",
          "output_type": "stream",
          "text": [
            "root\n",
            " |-- userId: integer (nullable = true)\n",
            " |-- movieId: integer (nullable = true)\n",
            " |-- rating: double (nullable = true)\n",
            " |-- timestamp: integer (nullable = true)\n",
            "\n"
          ]
        }
      ],
      "source": [
        "# validate data types\n",
        "df_1.printSchema()"
      ]
    },
    {
      "cell_type": "code",
      "execution_count": 8,
      "metadata": {
        "id": "iczU713ZkZSM"
      },
      "outputs": [],
      "source": [
        "df_2 = spark.read.csv('/content/drive/MyDrive/Data/movies.csv',inferSchema=True,header=True)"
      ]
    },
    {
      "cell_type": "code",
      "execution_count": 9,
      "metadata": {
        "colab": {
          "base_uri": "https://localhost:8080/"
        },
        "id": "nvAhqhJskZSM",
        "outputId": "9264fdde-3c9e-4c8a-bfee-90cf3e0bf243"
      },
      "outputs": [
        {
          "name": "stdout",
          "output_type": "stream",
          "text": [
            "(62423, 3)\n"
          ]
        }
      ],
      "source": [
        "print((df_2.count(),len(df_2.columns)))"
      ]
    },
    {
      "cell_type": "code",
      "execution_count": 10,
      "metadata": {
        "colab": {
          "base_uri": "https://localhost:8080/"
        },
        "id": "nKQzqQRxkZSM",
        "outputId": "0e75182b-c0e8-4ba8-df95-217b2c68a073"
      },
      "outputs": [
        {
          "name": "stdout",
          "output_type": "stream",
          "text": [
            "root\n",
            " |-- movieId: integer (nullable = true)\n",
            " |-- title: string (nullable = true)\n",
            " |-- genres: string (nullable = true)\n",
            "\n"
          ]
        }
      ],
      "source": [
        "df_2.printSchema()"
      ]
    },
    {
      "cell_type": "code",
      "execution_count": 11,
      "metadata": {
        "id": "4Igqa4Z0kZSN"
      },
      "outputs": [],
      "source": [
        "df = df_2.join(df_1, on=['movieId'], how='inner')"
      ]
    },
    {
      "cell_type": "code",
      "execution_count": 12,
      "metadata": {
        "colab": {
          "base_uri": "https://localhost:8080/"
        },
        "id": "6MkB6p0rkZSN",
        "outputId": "71e99aa8-f6ec-47f9-d79c-792b9ea13ec2"
      },
      "outputs": [
        {
          "name": "stdout",
          "output_type": "stream",
          "text": [
            "root\n",
            " |-- movieId: integer (nullable = true)\n",
            " |-- title: string (nullable = true)\n",
            " |-- genres: string (nullable = true)\n",
            " |-- userId: integer (nullable = true)\n",
            " |-- rating: double (nullable = true)\n",
            " |-- timestamp: integer (nullable = true)\n",
            "\n"
          ]
        }
      ],
      "source": [
        "# validate data types\n",
        "df.printSchema()"
      ]
    },
    {
      "cell_type": "code",
      "execution_count": 13,
      "metadata": {
        "colab": {
          "base_uri": "https://localhost:8080/"
        },
        "id": "cztKPqSZkZSN",
        "outputId": "5a95d0b1-7271-4143-dd90-efef98208a6e"
      },
      "outputs": [
        {
          "name": "stdout",
          "output_type": "stream",
          "text": [
            "(25000095, 6)\n"
          ]
        }
      ],
      "source": [
        "# size of new dataset\n",
        "print((df.count(),len(df.columns)))"
      ]
    },
    {
      "cell_type": "code",
      "execution_count": 14,
      "metadata": {
        "colab": {
          "base_uri": "https://localhost:8080/"
        },
        "id": "D-8WNplGkZSO",
        "outputId": "68e8a131-4772-40dd-f81f-46f04f82f383"
      },
      "outputs": [
        {
          "name": "stdout",
          "output_type": "stream",
          "text": [
            "+-------+--------------------------------------------------+-------------------------+------+------+----------+\n",
            "|movieId|title                                             |genres                   |userId|rating|timestamp |\n",
            "+-------+--------------------------------------------------+-------------------------+------+------+----------+\n",
            "|4308   |Moulin Rouge (2001)                               |Drama|Musical|Romance    |133359|3.0   |1137511927|\n",
            "|441    |Dazed and Confused (1993)                         |Comedy                   |77616 |4.0   |975230602 |\n",
            "|2858   |American Beauty (1999)                            |Drama|Romance            |36553 |5.0   |997996079 |\n",
            "|173291 |Valerian and the City of a Thousand Planets (2017)|Action|Adventure|Sci-Fi  |101415|3.5   |1548073509|\n",
            "|6874   |Kill Bill: Vol. 1 (2003)                          |Action|Crime|Thriller    |76929 |3.5   |1532603210|\n",
            "|196    |Species (1995)                                    |Horror|Sci-Fi            |110853|1.0   |940541235 |\n",
            "|266    |Legends of the Fall (1994)                        |Drama|Romance|War|Western|134574|2.0   |845338448 |\n",
            "|45186  |Mission: Impossible III (2006)                    |Action|Adventure|Thriller|118512|2.5   |1216293997|\n",
            "|2094   |Rocketeer, The (1991)                             |Action|Adventure|Sci-Fi  |126011|4.5   |1201372298|\n",
            "|1136   |Monty Python and the Holy Grail (1975)            |Adventure|Comedy|Fantasy |10357 |3.5   |1310197064|\n",
            "+-------+--------------------------------------------------+-------------------------+------+------+----------+\n",
            "only showing top 10 rows\n",
            "\n"
          ]
        }
      ],
      "source": [
        "# view 10 random rows\n",
        "df.orderBy(rand()).show(10,False)"
      ]
    },
    {
      "cell_type": "code",
      "execution_count": 15,
      "metadata": {
        "colab": {
          "base_uri": "https://localhost:8080/"
        },
        "id": "uh60-jh-kZSO",
        "outputId": "68d7b699-a0fb-403c-9210-c6c46764b391"
      },
      "outputs": [
        {
          "name": "stdout",
          "output_type": "stream",
          "text": [
            "+------+-----+\n",
            "|userId|count|\n",
            "+------+-----+\n",
            "|72315 |32202|\n",
            "|80974 |9178 |\n",
            "|137293|8913 |\n",
            "|33844 |7919 |\n",
            "|20055 |7488 |\n",
            "|109731|6647 |\n",
            "|92046 |6564 |\n",
            "|49403 |6553 |\n",
            "|30879 |5693 |\n",
            "|115102|5649 |\n",
            "+------+-----+\n",
            "only showing top 10 rows\n",
            "\n"
          ]
        }
      ],
      "source": [
        "# group by userid and show count by descending\n",
        "df.groupBy('userId').count().orderBy('count',\n",
        "ascending=False).show(10,False)"
      ]
    },
    {
      "cell_type": "code",
      "execution_count": 16,
      "metadata": {
        "colab": {
          "base_uri": "https://localhost:8080/"
        },
        "id": "Apq0HZJ-kZSO",
        "outputId": "ef7ddce7-5454-4a73-8934-f85de090bff0"
      },
      "outputs": [
        {
          "name": "stdout",
          "output_type": "stream",
          "text": [
            "+------+-----+\n",
            "|userId|count|\n",
            "+------+-----+\n",
            "|19200 |20   |\n",
            "|24950 |20   |\n",
            "|12210 |20   |\n",
            "|20240 |20   |\n",
            "|2572  |20   |\n",
            "|30289 |20   |\n",
            "|8389  |20   |\n",
            "|2983  |20   |\n",
            "|11025 |20   |\n",
            "|5363  |20   |\n",
            "+------+-----+\n",
            "only showing top 10 rows\n",
            "\n"
          ]
        }
      ],
      "source": [
        "# group by userid and show count by ascending\n",
        "df.groupBy('userId').count().orderBy('count',\n",
        "ascending=True).show(10,False)"
      ]
    },
    {
      "cell_type": "code",
      "execution_count": 17,
      "metadata": {
        "colab": {
          "base_uri": "https://localhost:8080/"
        },
        "id": "8IXJIcNbkZSP",
        "outputId": "fd4820f6-d71f-49e7-b1bf-72de82b246ae"
      },
      "outputs": [
        {
          "name": "stdout",
          "output_type": "stream",
          "text": [
            "+-----------------------------------------+-----+\n",
            "|title                                    |count|\n",
            "+-----------------------------------------+-----+\n",
            "|Forrest Gump (1994)                      |81491|\n",
            "|Shawshank Redemption, The (1994)         |81482|\n",
            "|Pulp Fiction (1994)                      |79672|\n",
            "|Silence of the Lambs, The (1991)         |74127|\n",
            "|Matrix, The (1999)                       |72674|\n",
            "|Star Wars: Episode IV - A New Hope (1977)|68717|\n",
            "|Jurassic Park (1993)                     |64144|\n",
            "|Schindler's List (1993)                  |60411|\n",
            "|Braveheart (1995)                        |59184|\n",
            "|Fight Club (1999)                        |58773|\n",
            "+-----------------------------------------+-----+\n",
            "only showing top 10 rows\n",
            "\n"
          ]
        }
      ],
      "source": [
        "# show movies with the highest rating count\n",
        "df.groupBy('title').count().orderBy('count',\n",
        "ascending=False).show(10,False)"
      ]
    },
    {
      "cell_type": "markdown",
      "metadata": {
        "id": "W3f_AGjDkZSP"
      },
      "source": [
        "### **Feature Engineering**"
      ]
    },
    {
      "cell_type": "code",
      "execution_count": 18,
      "metadata": {
        "id": "vtJLIsI6kZSQ"
      },
      "outputs": [],
      "source": [
        "# drop genres column\n",
        "df = df.drop('genres')"
      ]
    },
    {
      "cell_type": "code",
      "execution_count": 19,
      "metadata": {
        "id": "gWHp0BRHkZSR"
      },
      "outputs": [],
      "source": [
        "stringIndexer = StringIndexer(inputCol=\"title\",\n",
        "outputCol=\"title_new\")"
      ]
    },
    {
      "cell_type": "code",
      "execution_count": 20,
      "metadata": {
        "id": "-t4_AO_ukZSR"
      },
      "outputs": [],
      "source": [
        "# fit model\n",
        "model = stringIndexer.fit(df)"
      ]
    },
    {
      "cell_type": "code",
      "execution_count": 21,
      "metadata": {
        "id": "--vQPSa4kZSR"
      },
      "outputs": [],
      "source": [
        "# create new df with numerical columns\n",
        "indexed = model.transform(df)"
      ]
    },
    {
      "cell_type": "code",
      "execution_count": 22,
      "metadata": {
        "colab": {
          "base_uri": "https://localhost:8080/"
        },
        "id": "VqwI3NTGkZSS",
        "outputId": "bcc259f2-4283-430d-e0b8-1ebfe08c58b2"
      },
      "outputs": [
        {
          "name": "stdout",
          "output_type": "stream",
          "text": [
            "+-------+--------------------+------+------+----------+---------+\n",
            "|movieId|               title|userId|rating| timestamp|title_new|\n",
            "+-------+--------------------+------+------+----------+---------+\n",
            "|    296| Pulp Fiction (1994)|     1|   5.0|1147880044|      2.0|\n",
            "|    306|Three Colors: Red...|     1|   3.5|1147868817|    879.0|\n",
            "|    307|Three Colors: Blu...|     1|   5.0|1147868828|    942.0|\n",
            "|    665|  Underground (1995)|     1|   5.0|1147878820|   3265.0|\n",
            "|    899|Singin' in the Ra...|     1|   3.5|1147868510|    524.0|\n",
            "|   1088|Dirty Dancing (1987)|     1|   4.0|1147868495|    453.0|\n",
            "|   1175| Delicatessen (1991)|     1|   3.5|1147868826|    844.0|\n",
            "|   1217|          Ran (1985)|     1|   3.5|1147878326|   1175.0|\n",
            "|   1237|Seventh Seal, The...|     1|   5.0|1147868839|   1209.0|\n",
            "|   1250|Bridge on the Riv...|     1|   4.0|1147868414|    420.0|\n",
            "+-------+--------------------+------+------+----------+---------+\n",
            "only showing top 10 rows\n",
            "\n"
          ]
        }
      ],
      "source": [
        "# view first 10 rows\n",
        "indexed.show(10)"
      ]
    },
    {
      "cell_type": "code",
      "execution_count": 23,
      "metadata": {
        "colab": {
          "base_uri": "https://localhost:8080/"
        },
        "id": "rXYzRyWCkZSS",
        "outputId": "687e2fe0-782f-426d-fc9e-452d3779f90c"
      },
      "outputs": [
        {
          "name": "stdout",
          "output_type": "stream",
          "text": [
            "+---------+-----+\n",
            "|title_new|count|\n",
            "+---------+-----+\n",
            "|0.0      |81491|\n",
            "|1.0      |81482|\n",
            "|2.0      |79672|\n",
            "|3.0      |74127|\n",
            "|4.0      |72674|\n",
            "|5.0      |68717|\n",
            "|6.0      |64144|\n",
            "|7.0      |60411|\n",
            "|8.0      |59184|\n",
            "|9.0      |58773|\n",
            "+---------+-----+\n",
            "only showing top 10 rows\n",
            "\n"
          ]
        }
      ],
      "source": [
        "indexed.groupBy('title_new').count().orderBy('count',\n",
        "ascending=False).show(10,False)"
      ]
    },
    {
      "cell_type": "code",
      "execution_count": 24,
      "metadata": {
        "id": "-mg6peMokZSS"
      },
      "outputs": [],
      "source": [
        "# split dataset\n",
        "train,test = indexed.randomSplit([0.75,0.25])"
      ]
    },
    {
      "cell_type": "code",
      "execution_count": 25,
      "metadata": {
        "colab": {
          "base_uri": "https://localhost:8080/"
        },
        "id": "Zsd-G0TIkZST",
        "outputId": "9703c678-67de-4da1-f4b6-40f8a66997ff"
      },
      "outputs": [
        {
          "data": {
            "text/plain": [
              "18750663"
            ]
          },
          "execution_count": 25,
          "metadata": {},
          "output_type": "execute_result"
        }
      ],
      "source": [
        "# check the train count\n",
        "train.count()"
      ]
    },
    {
      "cell_type": "code",
      "execution_count": 26,
      "metadata": {
        "colab": {
          "base_uri": "https://localhost:8080/"
        },
        "id": "T0s8JmQJkZST",
        "outputId": "763c1054-acd7-4fcb-dd50-40d93f87a832"
      },
      "outputs": [
        {
          "data": {
            "text/plain": [
              "6249432"
            ]
          },
          "execution_count": 26,
          "metadata": {},
          "output_type": "execute_result"
        }
      ],
      "source": [
        "# check the test count\n",
        "test.count()"
      ]
    },
    {
      "cell_type": "markdown",
      "metadata": {
        "id": "pcefinlr6bjz"
      },
      "source": [
        "### **Modelling**"
      ]
    },
    {
      "cell_type": "code",
      "execution_count": 29,
      "metadata": {
        "id": "ZjQsHlitkZST"
      },
      "outputs": [],
      "source": [
        "rec=ALS(maxIter=10,regParam=0.01,userCol='userId',\n",
        "itemCol='title_new',ratingCol='rating',nonnegative=True,\n",
        "coldStartStrategy=\"drop\")"
      ]
    },
    {
      "cell_type": "code",
      "execution_count": 30,
      "metadata": {
        "id": "-MykSJHT6lMT"
      },
      "outputs": [],
      "source": [
        "rec_model=rec.fit(train)"
      ]
    },
    {
      "cell_type": "markdown",
      "metadata": {
        "id": "SZVNaY9q7eR7"
      },
      "source": [
        "### **Prediction and Evaluation**"
      ]
    },
    {
      "cell_type": "code",
      "execution_count": 31,
      "metadata": {
        "id": "4CEJETCn6lJg"
      },
      "outputs": [],
      "source": [
        "# transorm\n",
        "predicted_ratings=rec_model.transform(test)"
      ]
    },
    {
      "cell_type": "code",
      "execution_count": 32,
      "metadata": {
        "colab": {
          "base_uri": "https://localhost:8080/"
        },
        "id": "1rL7GLaj6lGo",
        "outputId": "3bba9b1d-a58f-456f-9fe3-00163795a9ef"
      },
      "outputs": [
        {
          "name": "stdout",
          "output_type": "stream",
          "text": [
            "root\n",
            " |-- movieId: integer (nullable = true)\n",
            " |-- title: string (nullable = true)\n",
            " |-- userId: integer (nullable = true)\n",
            " |-- rating: double (nullable = true)\n",
            " |-- timestamp: integer (nullable = true)\n",
            " |-- title_new: double (nullable = false)\n",
            " |-- prediction: float (nullable = false)\n",
            "\n"
          ]
        }
      ],
      "source": [
        "# print schema\n",
        "predicted_ratings.printSchema()"
      ]
    },
    {
      "cell_type": "code",
      "execution_count": 33,
      "metadata": {
        "colab": {
          "base_uri": "https://localhost:8080/"
        },
        "id": "iWAxmvd96lDu",
        "outputId": "9a894811-b600-46e7-c63d-e1df882244bf"
      },
      "outputs": [
        {
          "name": "stdout",
          "output_type": "stream",
          "text": [
            "+-------+--------------------+------+------+----------+---------+----------+\n",
            "|movieId|               title|userId|rating| timestamp|title_new|prediction|\n",
            "+-------+--------------------+------+------+----------+---------+----------+\n",
            "|   3104| Midnight Run (1988)| 28746|   4.0| 997899769|   1212.0|  3.983959|\n",
            "|  40629|Pride & Prejudice...| 62334|   4.0|1158689007|   1025.0|  3.609287|\n",
            "|    157|Canadian Bacon (1...|118622|   3.0|1035426446|   2150.0|   2.48535|\n",
            "|   7160|      Monster (2003)|128431|   4.5|1112314365|   1389.0| 3.6843584|\n",
            "|   2616|   Dick Tracy (1990)| 68206|   3.0|1153727745|   1089.0| 2.6426737|\n",
            "|   1339|Dracula (Bram Sto...|121234|   5.0|1210748190|    602.0| 4.4354486|\n",
            "|    858|Godfather, The (1...| 66617|   5.0| 944917059|     18.0|  4.676374|\n",
            "|   5445|Minority Report (...| 41060|   4.0|1301659581|     89.0| 2.2280412|\n",
            "|  37729| Corpse Bride (2005)| 70547|   4.0|1457224155|    807.0| 3.6856215|\n",
            "|   3130|Bonfire of the Va...| 60836|   1.0| 943560967|   3671.0| 2.3837423|\n",
            "+-------+--------------------+------+------+----------+---------+----------+\n",
            "only showing top 10 rows\n",
            "\n"
          ]
        }
      ],
      "source": [
        "predicted_ratings.orderBy(rand()).show(10)"
      ]
    },
    {
      "cell_type": "code",
      "execution_count": 35,
      "metadata": {
        "id": "zXIyMuie6lA2"
      },
      "outputs": [],
      "source": [
        "evaluator=RegressionEvaluator(metricName='rmse',\n",
        "predictionCol='prediction',labelCol='rating')"
      ]
    },
    {
      "cell_type": "code",
      "execution_count": 37,
      "metadata": {
        "id": "PzSuIexT9zbg"
      },
      "outputs": [],
      "source": [
        "rmse=evaluator.evaluate(predicted_ratings)"
      ]
    },
    {
      "cell_type": "code",
      "execution_count": 38,
      "metadata": {
        "colab": {
          "base_uri": "https://localhost:8080/"
        },
        "id": "ul94ePhi90bB",
        "outputId": "24058f64-ef24-4ce7-f3e6-0fb4a7408b1c"
      },
      "outputs": [
        {
          "name": "stdout",
          "output_type": "stream",
          "text": [
            "0.804182482079586\n"
          ]
        }
      ],
      "source": [
        "print(rmse)"
      ]
    },
    {
      "cell_type": "code",
      "execution_count": 39,
      "metadata": {
        "id": "lZiUL7l897ma"
      },
      "outputs": [],
      "source": [
        "unique_movies=indexed.select('title_new').distinct()"
      ]
    },
    {
      "cell_type": "code",
      "execution_count": 40,
      "metadata": {
        "colab": {
          "base_uri": "https://localhost:8080/"
        },
        "id": "4fGu5Pzh97jM",
        "outputId": "6dd054fe-4296-448a-8656-6f94179ff954"
      },
      "outputs": [
        {
          "data": {
            "text/plain": [
              "58958"
            ]
          },
          "execution_count": 40,
          "metadata": {},
          "output_type": "execute_result"
        }
      ],
      "source": [
        "unique_movies.count()"
      ]
    },
    {
      "cell_type": "code",
      "execution_count": 41,
      "metadata": {
        "id": "wXZf9F2_97fk"
      },
      "outputs": [],
      "source": [
        "a = unique_movies.alias('a')"
      ]
    },
    {
      "cell_type": "code",
      "execution_count": 58,
      "metadata": {
        "id": "R8_Faq8b97cB"
      },
      "outputs": [],
      "source": [
        "user_id=20"
      ]
    },
    {
      "cell_type": "code",
      "execution_count": 59,
      "metadata": {
        "id": "Vks1GbqP97Yi"
      },
      "outputs": [],
      "source": [
        "# apply filter\n",
        "watched_movies=indexed.filter(indexed['userId'] ==\n",
        "user_id).select('title_new').distinct()"
      ]
    },
    {
      "cell_type": "code",
      "execution_count": 60,
      "metadata": {
        "colab": {
          "base_uri": "https://localhost:8080/"
        },
        "id": "QsAaqTEw97Vm",
        "outputId": "976ab3e7-be26-427e-aff9-af91fd1080c7"
      },
      "outputs": [
        {
          "data": {
            "text/plain": [
              "78"
            ]
          },
          "execution_count": 60,
          "metadata": {},
          "output_type": "execute_result"
        }
      ],
      "source": [
        "watched_movies.count()"
      ]
    },
    {
      "cell_type": "code",
      "execution_count": 61,
      "metadata": {
        "id": "fO8bbx94_9Ln"
      },
      "outputs": [],
      "source": [
        "b=watched_movies.alias('b')"
      ]
    },
    {
      "cell_type": "code",
      "execution_count": 62,
      "metadata": {
        "id": "1vzI_FaC_9It"
      },
      "outputs": [],
      "source": [
        "total_movies = a.join(b, a.title_new == b.title_new,how='left')"
      ]
    },
    {
      "cell_type": "code",
      "execution_count": 63,
      "metadata": {
        "colab": {
          "base_uri": "https://localhost:8080/"
        },
        "id": "abo2w3cr_9F7",
        "outputId": "1f6b33c0-0a5d-463f-bb75-b6b4bf2d82f0"
      },
      "outputs": [
        {
          "name": "stdout",
          "output_type": "stream",
          "text": [
            "+---------+---------+\n",
            "|title_new|title_new|\n",
            "+---------+---------+\n",
            "|305.0    |null     |\n",
            "|769.0    |null     |\n",
            "|934.0    |null     |\n",
            "|2734.0   |null     |\n",
            "|299.0    |null     |\n",
            "|1051.0   |null     |\n",
            "|496.0    |null     |\n",
            "|596.0    |null     |\n",
            "|558.0    |null     |\n",
            "|692.0    |null     |\n",
            "+---------+---------+\n",
            "only showing top 10 rows\n",
            "\n"
          ]
        }
      ],
      "source": [
        "total_movies.show(10,False)"
      ]
    },
    {
      "cell_type": "code",
      "execution_count": 64,
      "metadata": {
        "id": "VkKOdnC7_9D_"
      },
      "outputs": [],
      "source": [
        "remaining_movies=total_movies.where(col(\"b.title_new\").isNull()).select(a.title_new).distinct()"
      ]
    },
    {
      "cell_type": "code",
      "execution_count": 65,
      "metadata": {
        "colab": {
          "base_uri": "https://localhost:8080/"
        },
        "id": "buHiIUCv_9As",
        "outputId": "11feb7eb-cc46-43d7-87a1-472a2e0e7083"
      },
      "outputs": [
        {
          "data": {
            "text/plain": [
              "58880"
            ]
          },
          "execution_count": 65,
          "metadata": {},
          "output_type": "execute_result"
        }
      ],
      "source": [
        "remaining_movies.count()"
      ]
    },
    {
      "cell_type": "code",
      "execution_count": 66,
      "metadata": {
        "id": "UoXj86N8_89f"
      },
      "outputs": [],
      "source": [
        "remaining_movies=remaining_movies.withColumn(\"userId\",lit(int(user_id)))"
      ]
    },
    {
      "cell_type": "code",
      "execution_count": 67,
      "metadata": {
        "colab": {
          "base_uri": "https://localhost:8080/"
        },
        "id": "SX8ZtVSv_86v",
        "outputId": "0afb154c-8b9f-400a-e396-eec93b5fd6ba"
      },
      "outputs": [
        {
          "name": "stdout",
          "output_type": "stream",
          "text": [
            "+---------+------+\n",
            "|title_new|userId|\n",
            "+---------+------+\n",
            "|305.0    |20    |\n",
            "|769.0    |20    |\n",
            "|934.0    |20    |\n",
            "|2734.0   |20    |\n",
            "|299.0    |20    |\n",
            "|1051.0   |20    |\n",
            "|496.0    |20    |\n",
            "|596.0    |20    |\n",
            "|558.0    |20    |\n",
            "|692.0    |20    |\n",
            "+---------+------+\n",
            "only showing top 10 rows\n",
            "\n"
          ]
        }
      ],
      "source": [
        "remaining_movies.show(10,False)"
      ]
    },
    {
      "cell_type": "code",
      "execution_count": 68,
      "metadata": {
        "id": "cXFgJE9d_836"
      },
      "outputs": [],
      "source": [
        "recommendations=rec_model.transform(remaining_movies).orderBy('prediction',ascendig=False)"
      ]
    },
    {
      "cell_type": "code",
      "execution_count": 70,
      "metadata": {
        "colab": {
          "base_uri": "https://localhost:8080/"
        },
        "id": "8ZJGkKWLDPMD",
        "outputId": "ad44685a-16f5-4b76-d207-ddfa0cf9cfb6"
      },
      "outputs": [
        {
          "name": "stdout",
          "output_type": "stream",
          "text": [
            "+---------+------+----------+\n",
            "|title_new|userId|prediction|\n",
            "+---------+------+----------+\n",
            "|46111.0  |20    |0.20617905|\n",
            "|37171.0  |20    |0.21556269|\n",
            "|51187.0  |20    |0.23353639|\n",
            "|46263.0  |20    |0.23403239|\n",
            "|55352.0  |20    |0.2580851 |\n",
            "+---------+------+----------+\n",
            "only showing top 5 rows\n",
            "\n"
          ]
        }
      ],
      "source": [
        "recommendations.show(5,False)"
      ]
    },
    {
      "cell_type": "code",
      "execution_count": 71,
      "metadata": {
        "id": "FkGHhDHYDPJL"
      },
      "outputs": [],
      "source": [
        "movie_title = IndexToString(inputCol=\"title_new\",outputCol=\"title\",labels=model.labels)"
      ]
    },
    {
      "cell_type": "code",
      "execution_count": 72,
      "metadata": {
        "id": "pk-0OGBODPHZ"
      },
      "outputs": [],
      "source": [
        "final_recommendations=movie_title.transform(recommendations)"
      ]
    },
    {
      "cell_type": "code",
      "execution_count": 73,
      "metadata": {
        "colab": {
          "base_uri": "https://localhost:8080/"
        },
        "id": "r2RnLZE6DPEn",
        "outputId": "f533615d-f49c-45d5-a25b-bc84ce4eefca"
      },
      "outputs": [
        {
          "name": "stdout",
          "output_type": "stream",
          "text": [
            "+---------+------+----------+-----------------------------+\n",
            "|title_new|userId|prediction|title                        |\n",
            "+---------+------+----------+-----------------------------+\n",
            "|46111.0  |20    |0.20617905|Secrets (1971)               |\n",
            "|37171.0  |20    |0.21556269|Desert Victory (1943)        |\n",
            "|51187.0  |20    |0.23353639|El Greco (1966)              |\n",
            "|46263.0  |20    |0.23403239|Silva (1981)                 |\n",
            "|55352.0  |20    |0.2580851 |Sant'Antonio di Padova (2002)|\n",
            "|54839.0  |20    |0.2580851 |Preferisco il paradiso (2010)|\n",
            "|53682.0  |20    |0.2580851 |Maria Goretti (2003)         |\n",
            "|55351.0  |20    |0.2580851 |Sant'Agostino (2010)         |\n",
            "|46192.0  |20    |0.28431967|Shark Hunter (2001)          |\n",
            "|46190.0  |20    |0.28431967|Shark Alarm (2004)           |\n",
            "+---------+------+----------+-----------------------------+\n",
            "only showing top 10 rows\n",
            "\n"
          ]
        }
      ],
      "source": [
        "final_recommendations.show(10,False)"
      ]
    },
    {
      "cell_type": "code",
      "execution_count": null,
      "metadata": {
        "id": "bM2bw6kJDPCO"
      },
      "outputs": [],
      "source": []
    },
    {
      "cell_type": "code",
      "execution_count": null,
      "metadata": {
        "id": "c9CIdLb4DO_w"
      },
      "outputs": [],
      "source": []
    },
    {
      "cell_type": "code",
      "execution_count": null,
      "metadata": {
        "id": "k11xSL09FDSF"
      },
      "outputs": [],
      "source": []
    }
  ],
  "metadata": {
    "accelerator": "GPU",
    "colab": {
      "gpuType": "T4",
      "provenance": []
    },
    "kernelspec": {
      "display_name": "Python 3",
      "name": "python3"
    },
    "language_info": {
      "codemirror_mode": {
        "name": "ipython",
        "version": 3
      },
      "file_extension": ".py",
      "mimetype": "text/x-python",
      "name": "python",
      "nbconvert_exporter": "python",
      "pygments_lexer": "ipython3",
      "version": "3.10.12"
    },
    "orig_nbformat": 4
  },
  "nbformat": 4,
  "nbformat_minor": 0
}
